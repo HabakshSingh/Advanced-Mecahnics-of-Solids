{
 "cells": [
  {
   "cell_type": "markdown",
   "id": "2a6ba695",
   "metadata": {},
   "source": [
    "## <center>Plate with UDL with clamped periphery<center>"
   ]
  },
  {
   "cell_type": "code",
   "execution_count": 1,
   "id": "6fee641a",
   "metadata": {},
   "outputs": [],
   "source": [
    "import sympy as sp\n"
   ]
  },
  {
   "cell_type": "code",
   "execution_count": 19,
   "id": "c16884ec",
   "metadata": {},
   "outputs": [],
   "source": [
    "q,D,nu,R=sp.symbols('q,D,nu,R')\n",
    "r,theta=sp.symbols('r,theta')\n",
    "w=sp.Function('f')(r)\n",
    "a,b,c,d=sp.symbols('a,b,c,d')"
   ]
  },
  {
   "cell_type": "code",
   "execution_count": 3,
   "id": "45d58e10",
   "metadata": {},
   "outputs": [],
   "source": [
    "def del_delx(w):\n",
    "    return sp.cos(theta)*sp.diff(w,r,1)-sp.sin(theta)*sp.diff(w,theta,1)/r"
   ]
  },
  {
   "cell_type": "code",
   "execution_count": 4,
   "id": "9770a108",
   "metadata": {},
   "outputs": [],
   "source": [
    "def del_dely(w):\n",
    "    return sp.sin(theta)*sp.diff(w,r,1)+sp.cos(theta)*sp.diff(w,theta,1)/r"
   ]
  },
  {
   "cell_type": "code",
   "execution_count": 5,
   "id": "56fa48a5",
   "metadata": {},
   "outputs": [],
   "source": [
    "def del2_delx(w):\n",
    "    return del_delx(del_delx(w))\n",
    "def polarlaplace(w):\n",
    "    return del_delx(del_delx(w))+del_dely(del_dely(w))"
   ]
  },
  {
   "cell_type": "code",
   "execution_count": 6,
   "id": "a1f0736e",
   "metadata": {},
   "outputs": [],
   "source": [
    "def polarbiharmonic(w):\n",
    "    return polarlaplace(polarlaplace(w))"
   ]
  },
  {
   "cell_type": "code",
   "execution_count": 7,
   "id": "cd6180d4",
   "metadata": {},
   "outputs": [
    {
     "data": {
      "text/latex": [
       "$\\displaystyle D \\left(\\frac{d^{4}}{d r^{4}} f{\\left(r \\right)} + \\frac{2 \\frac{d^{3}}{d r^{3}} f{\\left(r \\right)}}{r} - \\frac{\\frac{d^{2}}{d r^{2}} f{\\left(r \\right)}}{r^{2}} + \\frac{\\frac{d}{d r} f{\\left(r \\right)}}{r^{3}}\\right) = q$"
      ],
      "text/plain": [
       "Eq(D*(Derivative(f(r), (r, 4)) + 2*Derivative(f(r), (r, 3))/r - Derivative(f(r), (r, 2))/r**2 + Derivative(f(r), r)/r**3), q)"
      ]
     },
     "execution_count": 7,
     "metadata": {},
     "output_type": "execute_result"
    }
   ],
   "source": [
    "lhs=D*polarbiharmonic(w).simplify()\n",
    "rhs=q\n",
    "GE=sp.Eq(lhs,rhs)\n",
    "GE"
   ]
  },
  {
   "cell_type": "code",
   "execution_count": 8,
   "id": "5a9e26f6",
   "metadata": {},
   "outputs": [
    {
     "data": {
      "text/latex": [
       "$\\displaystyle f{\\left(r \\right)} = C_{1} + C_{2} r^{2} + C_{3} r^{2} \\log{\\left(r \\right)} + C_{4} \\log{\\left(r \\right)} + \\frac{q r^{4}}{64 D}$"
      ],
      "text/plain": [
       "Eq(f(r), C1 + C2*r**2 + C3*r**2*log(r) + C4*log(r) + q*r**4/(64*D))"
      ]
     },
     "execution_count": 8,
     "metadata": {},
     "output_type": "execute_result"
    }
   ],
   "source": [
    "sp.dsolve(GE)"
   ]
  },
  {
   "cell_type": "markdown",
   "id": "c94bf3e7",
   "metadata": {},
   "source": [
    "### Now we will apply boundary conditions"
   ]
  },
  {
   "cell_type": "code",
   "execution_count": 9,
   "id": "0a9d7749",
   "metadata": {},
   "outputs": [
    {
     "data": {
      "text/latex": [
       "$\\displaystyle a + b r^{2} + c r^{2} \\log{\\left(r \\right)} + d \\log{\\left(r \\right)} + \\frac{q r^{4}}{64 D}$"
      ],
      "text/plain": [
       "a + b*r**2 + c*r**2*log(r) + d*log(r) + q*r**4/(64*D)"
      ]
     },
     "execution_count": 9,
     "metadata": {},
     "output_type": "execute_result"
    }
   ],
   "source": [
    "w_soln=a+b*r**2+c*r**2*sp.log(r)+d*sp.log(r)+q*r**4/(64*D)\n",
    "w_soln"
   ]
  },
  {
   "cell_type": "markdown",
   "id": "f6dfa0dc",
   "metadata": {},
   "source": [
    "Now, we will use two conditions\n",
    "1. at r=0 , w should be finite . So, d=0\n",
    "2. at r=0, M should be finite. So, c=0"
   ]
  },
  {
   "cell_type": "code",
   "execution_count": 10,
   "id": "7c7c04b2",
   "metadata": {},
   "outputs": [
    {
     "data": {
      "text/latex": [
       "$\\displaystyle a + b r^{2} + \\frac{q r^{4}}{64 D}$"
      ],
      "text/plain": [
       "a + b*r**2 + q*r**4/(64*D)"
      ]
     },
     "execution_count": 10,
     "metadata": {},
     "output_type": "execute_result"
    }
   ],
   "source": [
    "w_soln_interim = w_soln.subs([(c,0),(d,0)])\n",
    "w_soln_interim"
   ]
  },
  {
   "cell_type": "markdown",
   "id": "a08e86fc",
   "metadata": {},
   "source": [
    "#### Now, we have two more boundary conditions\n",
    "\\begin{align*}\n",
    " M_n= \\frac{\\partial M_{ns}}{\\partial s}+Q_n\n",
    " \\end{align*}\n",
    "  \\begin{align*}\n",
    " M_n=0\n",
    " \\end{align*}"
   ]
  },
  {
   "cell_type": "markdown",
   "id": "3324f425",
   "metadata": {},
   "source": [
    "Now, \n",
    "\\begin{align*}\n",
    " M_n=n_x^2M_x+2n_xn_yM_{xy}+n_y^2M_y\n",
    " \\end{align*}\n",
    "\\begin{align*}\n",
    " M_{ns}=n_xn_y(M_y-M_x)+(n_x^2-n_y^2)M_{xy}\n",
    " \\end{align*}\n",
    " \\begin{align*}\n",
    " Q_n=n_xQ_x+n_yQ_y\n",
    " \\end{align*}\n",
    " "
   ]
  },
  {
   "cell_type": "markdown",
   "id": "df7a9ec1",
   "metadata": {},
   "source": [
    " $(1)D = \\frac{Eh^3}{12(1-\\nu^2)}$\\\n",
    "$(2) M_x = -D (\\frac{\\partial^2 w}{\\partial x^2} + \\nu \\frac{\\partial^2 w}{\\partial y^2})$\\\n",
    "$(3) M_y = -D (\\frac{\\partial^2 w}{\\partial y^2} + \\nu \\frac{\\partial^2 w}{\\partial x^2})$\\\n",
    "$(4) M_{xy} = -D (\\frac{\\partial^2 w}{\\partial x \\partial y} )$\\"
   ]
  },
  {
   "cell_type": "markdown",
   "id": "34dfae00",
   "metadata": {},
   "source": [
    "we have to use , Mn=Mr at boundary and w=0 at the boundary"
   ]
  },
  {
   "cell_type": "code",
   "execution_count": 11,
   "id": "67cf7f4e",
   "metadata": {},
   "outputs": [],
   "source": [
    "def Mx(w):\n",
    "    return -D*(del_delx(del_delx(w)) + nu*del_dely(del_dely(w))).simplify()\n",
    "\n",
    "def My(w):\n",
    "    return -D*(del_dely(del_dely(w)) + nu*del_delx(del_delx(w))).simplify()\n",
    "\n",
    "def Mxy(w):\n",
    "    return -D*(1-nu)*del_delx(del_dely(w))"
   ]
  },
  {
   "cell_type": "code",
   "execution_count": 12,
   "id": "b8b75c7c",
   "metadata": {},
   "outputs": [],
   "source": [
    "nx = sp.cos(theta)\n",
    "ny = sp.sin(theta)"
   ]
  },
  {
   "cell_type": "code",
   "execution_count": 13,
   "id": "602f52e0",
   "metadata": {},
   "outputs": [],
   "source": [
    "def Mn(w):\n",
    "    return (nx**2*Mx(w) + 2*nx*ny*Mxy(w) + ny**2*My(w)).simplify()"
   ]
  },
  {
   "cell_type": "code",
   "execution_count": 17,
   "id": "19ef4b23",
   "metadata": {},
   "outputs": [
    {
     "data": {
      "text/latex": [
       "$\\displaystyle M_r = - \\frac{D \\left(\\nu \\frac{d}{d r} f{\\left(r \\right)} + r \\frac{d^{2}}{d r^{2}} f{\\left(r \\right)}\\right)}{r}$"
      ],
      "text/plain": [
       "<IPython.core.display.Math object>"
      ]
     },
     "metadata": {},
     "output_type": "display_data"
    }
   ],
   "source": [
    "from IPython.display import Math\n",
    "\n",
    "display(Math(r'M_r = {}'.format(sp.latex(Mn(w)))))"
   ]
  },
  {
   "cell_type": "code",
   "execution_count": 18,
   "id": "57511075",
   "metadata": {},
   "outputs": [
    {
     "data": {
      "text/latex": [
       "$\\displaystyle M_r = - 2 D b \\nu - 2 D b - 2 D c \\nu \\log{\\left(r \\right)} - D c \\nu - 2 D c \\log{\\left(r \\right)} - 3 D c - \\frac{D d \\nu}{r^{2}} + \\frac{D d}{r^{2}} - \\frac{\\nu q r^{2}}{16} - \\frac{3 q r^{2}}{16}$"
      ],
      "text/plain": [
       "<IPython.core.display.Math object>"
      ]
     },
     "metadata": {},
     "output_type": "display_data"
    }
   ],
   "source": [
    "Mr = Mn(w_soln)\n",
    "display(Math(r'M_r = {}'.format(sp.latex(Mr))))"
   ]
  },
  {
   "cell_type": "code",
   "execution_count": 26,
   "id": "674625cd",
   "metadata": {},
   "outputs": [
    {
     "data": {
      "text/latex": [
       "$\\displaystyle R^{2} b + a + \\frac{R^{4} q}{64 D} = 0$"
      ],
      "text/plain": [
       "Eq(R**2*b + a + R**4*q/(64*D), 0)"
      ]
     },
     "execution_count": 26,
     "metadata": {},
     "output_type": "execute_result"
    }
   ],
   "source": [
    "Bc1_lhs=w_soln_interim.subs(r,R)\n",
    "Bc1_rhs=0\n",
    "Bc1_eq=sp.Eq(Bc1_lhs,Bc1_rhs)\n",
    "Bc1_eq   #for w=0 at boundary\n"
   ]
  },
  {
   "cell_type": "code",
   "execution_count": 27,
   "id": "06234ef5",
   "metadata": {},
   "outputs": [
    {
     "data": {
      "text/latex": [
       "$\\displaystyle - 2 D b \\nu - 2 D b - \\frac{R^{2} \\nu q}{16} - \\frac{3 R^{2} q}{16} = 0$"
      ],
      "text/plain": [
       "Eq(-2*D*b*nu - 2*D*b - R**2*nu*q/16 - 3*R**2*q/16, 0)"
      ]
     },
     "execution_count": 27,
     "metadata": {},
     "output_type": "execute_result"
    }
   ],
   "source": [
    "Bc2_lhs=(Mn(w_soln_interim)).subs(r,R)\n",
    "Bc2_rhs=0\n",
    "Bc2_eq=sp.Eq(Bc2_lhs,Bc2_rhs)\n",
    "Bc2_eq   #for Mr=0 at the boundary"
   ]
  },
  {
   "cell_type": "code",
   "execution_count": 29,
   "id": "0c4e53a3",
   "metadata": {},
   "outputs": [
    {
     "data": {
      "text/latex": [
       "$\\displaystyle a = \\frac{R^{4} \\nu q + 5 R^{4} q}{64 D \\nu + 64 D}$"
      ],
      "text/plain": [
       "<IPython.core.display.Math object>"
      ]
     },
     "metadata": {},
     "output_type": "display_data"
    },
    {
     "data": {
      "text/latex": [
       "$\\displaystyle b = \\frac{- R^{2} \\nu q - 3 R^{2} q}{32 D \\nu + 32 D}$"
      ],
      "text/plain": [
       "<IPython.core.display.Math object>"
      ]
     },
     "metadata": {},
     "output_type": "display_data"
    }
   ],
   "source": [
    "soln, = sp.linsolve([Bc1_eq,Bc2_eq],(a,b))\n",
    "avalue = soln[0]\n",
    "bvalue = soln[1]\n",
    "display(Math(r'a = {}'.format(sp.latex(avalue))))\n",
    "display(Math(r'b = {}'.format(sp.latex(bvalue))))"
   ]
  },
  {
   "cell_type": "code",
   "execution_count": 33,
   "id": "7ab9a992",
   "metadata": {},
   "outputs": [
    {
     "data": {
      "text/latex": [
       "$\\displaystyle w=\\frac{r^{2} \\left(- R^{2} \\nu q - 3 R^{2} q\\right)}{32 D \\nu + 32 D} + \\frac{R^{4} \\nu q + 5 R^{4} q}{64 D \\nu + 64 D} + \\frac{q r^{4}}{64 D}$"
      ],
      "text/plain": [
       "<IPython.core.display.Math object>"
      ]
     },
     "metadata": {},
     "output_type": "display_data"
    }
   ],
   "source": [
    "W_final_sol=w_soln_interim.subs([(a,avalue),(b,bvalue)])\n",
    "display(Math(r'w={}'.format(sp.latex(W_final_sol))))"
   ]
  }
 ],
 "metadata": {
  "kernelspec": {
   "display_name": "Python 3",
   "language": "python",
   "name": "python3"
  },
  "language_info": {
   "codemirror_mode": {
    "name": "ipython",
    "version": 3
   },
   "file_extension": ".py",
   "mimetype": "text/x-python",
   "name": "python",
   "nbconvert_exporter": "python",
   "pygments_lexer": "ipython3",
   "version": "3.8.8"
  }
 },
 "nbformat": 4,
 "nbformat_minor": 5
}
