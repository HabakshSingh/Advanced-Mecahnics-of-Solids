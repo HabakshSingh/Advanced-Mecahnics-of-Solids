{
 "cells": [
  {
   "cell_type": "code",
   "execution_count": 5,
   "id": "a62a612e",
   "metadata": {},
   "outputs": [],
   "source": [
    "import sympy as sp\n"
   ]
  },
  {
   "cell_type": "code",
   "execution_count": 6,
   "id": "330745cf",
   "metadata": {},
   "outputs": [],
   "source": [
    "x,y=sp.symbols('x,y')\n",
    "r,theta=sp.symbols('r,theta')\n",
    "w=sp.Function('w')(r,theta)"
   ]
  },
  {
   "cell_type": "code",
   "execution_count": 18,
   "id": "588096e2",
   "metadata": {},
   "outputs": [],
   "source": [
    "def del_delx(f):\n",
    "    return sp.cos(theta)*sp.diff(f,r,1)-sp.sin(theta)*sp.diff(f,theta,1)/r"
   ]
  },
  {
   "cell_type": "code",
   "execution_count": 19,
   "id": "39b0636e",
   "metadata": {},
   "outputs": [],
   "source": [
    "def del_dely(f):\n",
    "    return sp.sin(theta)*sp.diff(f,r,1)+sp.cos(theta)*sp.diff(f,theta,1)/r"
   ]
  },
  {
   "cell_type": "code",
   "execution_count": 25,
   "id": "8305eb3a",
   "metadata": {},
   "outputs": [],
   "source": [
    "def polarlaplace(f):\n",
    "    return del_delx(del_delx(f))+del_dely(del_dely(f))"
   ]
  },
  {
   "cell_type": "code",
   "execution_count": 26,
   "id": "07a1e37b",
   "metadata": {},
   "outputs": [
    {
     "data": {
      "text/latex": [
       "$\\displaystyle \\frac{\\partial^{2}}{\\partial r^{2}} w{\\left(r,\\theta \\right)} + \\frac{\\frac{\\partial}{\\partial r} w{\\left(r,\\theta \\right)}}{r} + \\frac{\\frac{\\partial^{2}}{\\partial \\theta^{2}} w{\\left(r,\\theta \\right)}}{r^{2}}$"
      ],
      "text/plain": [
       "Derivative(w(r, theta), (r, 2)) + Derivative(w(r, theta), r)/r + Derivative(w(r, theta), (theta, 2))/r**2"
      ]
     },
     "execution_count": 26,
     "metadata": {},
     "output_type": "execute_result"
    }
   ],
   "source": [
    "polarlaplace(w).simplify()"
   ]
  },
  {
   "cell_type": "code",
   "execution_count": 27,
   "id": "fd2f7272",
   "metadata": {},
   "outputs": [],
   "source": [
    "def polarbiharmonic(f):\n",
    "    return polarlaplace(polarlaplace(f))"
   ]
  },
  {
   "cell_type": "code",
   "execution_count": 28,
   "id": "932d11d4",
   "metadata": {},
   "outputs": [
    {
     "data": {
      "text/latex": [
       "$\\displaystyle \\frac{r^{4} \\frac{\\partial^{4}}{\\partial r^{4}} w{\\left(r,\\theta \\right)} + 2 r^{3} \\frac{\\partial^{3}}{\\partial r^{3}} w{\\left(r,\\theta \\right)} - r^{2} \\frac{\\partial^{2}}{\\partial r^{2}} w{\\left(r,\\theta \\right)} + 2 r^{2} \\frac{\\partial^{4}}{\\partial \\theta^{2}\\partial r^{2}} w{\\left(r,\\theta \\right)} + r \\frac{\\partial}{\\partial r} w{\\left(r,\\theta \\right)} - 2 r \\frac{\\partial^{3}}{\\partial \\theta^{2}\\partial r} w{\\left(r,\\theta \\right)} + 4 \\frac{\\partial^{2}}{\\partial \\theta^{2}} w{\\left(r,\\theta \\right)} + \\frac{\\partial^{4}}{\\partial \\theta^{4}} w{\\left(r,\\theta \\right)}}{r^{4}}$"
      ],
      "text/plain": [
       "(r**4*Derivative(w(r, theta), (r, 4)) + 2*r**3*Derivative(w(r, theta), (r, 3)) - r**2*Derivative(w(r, theta), (r, 2)) + 2*r**2*Derivative(w(r, theta), (r, 2), (theta, 2)) + r*Derivative(w(r, theta), r) - 2*r*Derivative(w(r, theta), r, (theta, 2)) + 4*Derivative(w(r, theta), (theta, 2)) + Derivative(w(r, theta), (theta, 4)))/r**4"
      ]
     },
     "execution_count": 28,
     "metadata": {},
     "output_type": "execute_result"
    }
   ],
   "source": [
    "polarbiharmonic(w).simplify()"
   ]
  }
 ],
 "metadata": {
  "kernelspec": {
   "display_name": "Python 3",
   "language": "python",
   "name": "python3"
  },
  "language_info": {
   "codemirror_mode": {
    "name": "ipython",
    "version": 3
   },
   "file_extension": ".py",
   "mimetype": "text/x-python",
   "name": "python",
   "nbconvert_exporter": "python",
   "pygments_lexer": "ipython3",
   "version": "3.8.8"
  }
 },
 "nbformat": 4,
 "nbformat_minor": 5
}
