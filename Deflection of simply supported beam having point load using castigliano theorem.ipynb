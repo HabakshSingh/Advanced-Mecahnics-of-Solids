{
 "cells": [
  {
   "cell_type": "code",
   "execution_count": 1,
   "id": "28610f70",
   "metadata": {},
   "outputs": [],
   "source": [
    "import sympy as sym"
   ]
  },
  {
   "cell_type": "code",
   "execution_count": 3,
   "id": "94446585",
   "metadata": {},
   "outputs": [],
   "source": [
    "x=sym.symbols('x')\n",
    "L,P=sym.symbols('L,P',positive=True)"
   ]
  },
  {
   "cell_type": "code",
   "execution_count": 32,
   "id": "1f81036c",
   "metadata": {},
   "outputs": [],
   "source": [
    "x=sym.symbols('x')\n",
    "L,P,E,I=sym.symbols('L,P,E,I',positive=True)"
   ]
  },
  {
   "cell_type": "code",
   "execution_count": 21,
   "id": "145f9451",
   "metadata": {},
   "outputs": [],
   "source": [
    "from sympy import SingularityFunction as SF\n",
    "from sympy import Piecewise"
   ]
  },
  {
   "cell_type": "code",
   "execution_count": 22,
   "id": "48298635",
   "metadata": {},
   "outputs": [
    {
     "data": {
      "text/latex": [
       "$\\displaystyle \\frac{P x}{2} - P {\\left\\langle - \\frac{L}{2} + x \\right\\rangle}^{1}$"
      ],
      "text/plain": [
       "P*x/2 - P*SingularityFunction(x, L/2, 1)"
      ]
     },
     "execution_count": 22,
     "metadata": {},
     "output_type": "execute_result"
    }
   ],
   "source": [
    "M=P/2*x-P*SF(x,L/2,1)\n",
    "M"
   ]
  },
  {
   "cell_type": "code",
   "execution_count": 33,
   "id": "b32c74ad",
   "metadata": {},
   "outputs": [
    {
     "data": {
      "text/latex": [
       "$\\displaystyle \\begin{cases} \\frac{P \\left(L - x\\right)^{2}}{4 E I} & \\text{for}\\: L < 2 x \\\\\\frac{P x^{2}}{4 E I} & \\text{otherwise} \\end{cases}$"
      ],
      "text/plain": [
       "Piecewise((P*(L - x)**2/(4*E*I), L < 2*x), (P*x**2/(4*E*I), True))"
      ]
     },
     "execution_count": 33,
     "metadata": {},
     "output_type": "execute_result"
    }
   ],
   "source": [
    "integrand=(M*sym.diff(M,P)/E/I).rewrite(Piecewise).simplify()\n",
    "integrand"
   ]
  },
  {
   "cell_type": "code",
   "execution_count": 34,
   "id": "a5e264c7",
   "metadata": {},
   "outputs": [
    {
     "data": {
      "text/latex": [
       "$\\displaystyle \\frac{L^{3} P}{48 E I}$"
      ],
      "text/plain": [
       "L**3*P/(48*E*I)"
      ]
     },
     "execution_count": 34,
     "metadata": {},
     "output_type": "execute_result"
    }
   ],
   "source": [
    "sym.integrate(integrand,(x,0,L))\n"
   ]
  }
 ],
 "metadata": {
  "kernelspec": {
   "display_name": "Python 3",
   "language": "python",
   "name": "python3"
  },
  "language_info": {
   "codemirror_mode": {
    "name": "ipython",
    "version": 3
   },
   "file_extension": ".py",
   "mimetype": "text/x-python",
   "name": "python",
   "nbconvert_exporter": "python",
   "pygments_lexer": "ipython3",
   "version": "3.8.8"
  }
 },
 "nbformat": 4,
 "nbformat_minor": 5
}
