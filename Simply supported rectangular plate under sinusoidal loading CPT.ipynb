{
 "cells": [
  {
   "cell_type": "markdown",
   "id": "e6fb5af5",
   "metadata": {},
   "source": [
    "# <center> Simply supported rectangular plate under sinusoidal loading  <center>"
   ]
  },
  {
   "cell_type": "code",
   "execution_count": 1,
   "id": "41df43d1",
   "metadata": {},
   "outputs": [],
   "source": [
    "import sympy as sp\n",
    "from IPython.display import Math"
   ]
  },
  {
   "cell_type": "code",
   "execution_count": 2,
   "id": "be398845",
   "metadata": {},
   "outputs": [],
   "source": [
    "qo,wo,x,y,D,nu=sp.symbols('qo,wo,x,y,D,nu')\n",
    "a,b=sp.symbols('a,b',positive=True)\n",
    "q=sp.Function('q')(x,y)\n",
    "w=sp.Function('w')(x,y)"
   ]
  },
  {
   "cell_type": "code",
   "execution_count": 3,
   "id": "5cdb0a27",
   "metadata": {},
   "outputs": [
    {
     "data": {
      "text/latex": [
       "$\\displaystyle q=qo \\sin{\\left(\\frac{\\pi x}{a} \\right)} \\sin{\\left(\\frac{\\pi y}{b} \\right)}$"
      ],
      "text/plain": [
       "<IPython.core.display.Math object>"
      ]
     },
     "metadata": {},
     "output_type": "display_data"
    }
   ],
   "source": [
    "q=qo*sp.sin(sp.pi*x/a)*sp.sin(sp.pi*y/b)\n",
    "display(Math(r'q={}'.format(sp.latex(q))))"
   ]
  },
  {
   "cell_type": "code",
   "execution_count": 4,
   "id": "20134b30",
   "metadata": {},
   "outputs": [],
   "source": [
    "def biharmonic(w):\n",
    "    return sp.diff(w,x,4)+2*sp.diff(w,x,2,y,2)+sp.diff(w,y,4)"
   ]
  },
  {
   "cell_type": "markdown",
   "id": "44b29ece",
   "metadata": {},
   "source": [
    "Now, we will assume a solution of the w\n",
    "\\begin{align*}\n",
    "w=w_o sin(\\frac{\\pi x}{a})\n",
    "\\end{align*}"
   ]
  },
  {
   "cell_type": "markdown",
   "id": "c86db591",
   "metadata": {},
   "source": [
    "where\n",
    "\\begin{align*}\n",
    "w_o=\\frac{q_o}{D \\pi^4(\\frac{1}{a^2}+\\frac{1}{b^2})^2}\n",
    "\\end{align*}"
   ]
  },
  {
   "cell_type": "code",
   "execution_count": 5,
   "id": "23838767",
   "metadata": {},
   "outputs": [
    {
     "data": {
      "text/latex": [
       "$\\displaystyle w = \\frac{qo \\sin{\\left(\\frac{\\pi x}{a} \\right)} \\sin{\\left(\\frac{\\pi y}{b} \\right)}}{\\pi^{4} D \\left(\\frac{1}{b^{2}} + \\frac{1}{a^{2}}\\right)^{2}}$"
      ],
      "text/plain": [
       "<IPython.core.display.Math object>"
      ]
     },
     "metadata": {},
     "output_type": "display_data"
    }
   ],
   "source": [
    "q = qo*sp.sin(sp.pi*x/a)*sp.sin(sp.pi*y/b)\n",
    "wo = qo/(D*sp.pi**4*(1/a**2 + 1/b**2)**2)\n",
    "w = wo*sp.sin(sp.pi*x/a)*sp.sin(sp.pi*y/b)\n",
    "\n",
    "from IPython.display import Math\n",
    "display(Math(r'w = {}'.format(sp.latex(w))))"
   ]
  },
  {
   "cell_type": "markdown",
   "id": "8c819ce0",
   "metadata": {},
   "source": [
    "Now, we will see whether the assumed solution is correct or not"
   ]
  },
  {
   "cell_type": "code",
   "execution_count": 6,
   "id": "364b30bb",
   "metadata": {},
   "outputs": [
    {
     "data": {
      "text/latex": [
       "$\\displaystyle 0$"
      ],
      "text/plain": [
       "0"
      ]
     },
     "execution_count": 6,
     "metadata": {},
     "output_type": "execute_result"
    }
   ],
   "source": [
    "D*biharmonic(w).simplify()-q"
   ]
  },
  {
   "cell_type": "markdown",
   "id": "581f1165",
   "metadata": {},
   "source": [
    "now, we will find the Mx,My,Mxy"
   ]
  },
  {
   "cell_type": "code",
   "execution_count": 7,
   "id": "ba14b3d0",
   "metadata": {},
   "outputs": [
    {
     "data": {
      "text/latex": [
       "$\\displaystyle M_x = \\frac{a^{2} b^{2} qo \\left(a^{2} \\nu + b^{2}\\right) \\sin{\\left(\\frac{\\pi x}{a} \\right)} \\sin{\\left(\\frac{\\pi y}{b} \\right)}}{\\pi^{2} \\left(a^{2} + b^{2}\\right)^{2}}$"
      ],
      "text/plain": [
       "<IPython.core.display.Math object>"
      ]
     },
     "metadata": {},
     "output_type": "display_data"
    }
   ],
   "source": [
    "Mx = -D*(sp.diff(w,x,2) + nu*sp.diff(w,y,2)).simplify()\n",
    "display(Math(r'M_x = {}'.format(sp.latex(Mx))))"
   ]
  },
  {
   "cell_type": "code",
   "execution_count": 8,
   "id": "2c384724",
   "metadata": {},
   "outputs": [
    {
     "data": {
      "text/latex": [
       "$\\displaystyle M_y = \\frac{a^{2} b^{2} qo \\left(a^{2} + b^{2} \\nu\\right) \\sin{\\left(\\frac{\\pi x}{a} \\right)} \\sin{\\left(\\frac{\\pi y}{b} \\right)}}{\\pi^{2} \\left(a^{2} + b^{2}\\right)^{2}}$"
      ],
      "text/plain": [
       "<IPython.core.display.Math object>"
      ]
     },
     "metadata": {},
     "output_type": "display_data"
    }
   ],
   "source": [
    "My = -D*(sp.diff(w,y,2) + nu*sp.diff(w,x,2)).simplify()\n",
    "display(Math(r'M_y = {}'.format(sp.latex(My))))"
   ]
  },
  {
   "cell_type": "code",
   "execution_count": 9,
   "id": "01b45635",
   "metadata": {},
   "outputs": [
    {
     "data": {
      "text/latex": [
       "$\\displaystyle M_{xy} = - \\frac{qo \\left(1 - \\nu\\right) \\cos{\\left(\\frac{\\pi x}{a} \\right)} \\cos{\\left(\\frac{\\pi y}{b} \\right)}}{\\pi^{2} a b \\left(\\frac{1}{b^{2}} + \\frac{1}{a^{2}}\\right)^{2}}$"
      ],
      "text/plain": [
       "<IPython.core.display.Math object>"
      ]
     },
     "metadata": {},
     "output_type": "display_data"
    }
   ],
   "source": [
    "Mxy = -D*(1-nu)*sp.diff(w,x,y)\n",
    "display(Math(r'M_{{xy}} = {}'.format(sp.latex(Mxy))))"
   ]
  },
  {
   "cell_type": "markdown",
   "id": "affe83fb",
   "metadata": {},
   "source": [
    "Now, we will find the expressio of Qx,Qy"
   ]
  },
  {
   "cell_type": "code",
   "execution_count": 10,
   "id": "57ebc451",
   "metadata": {},
   "outputs": [
    {
     "data": {
      "text/latex": [
       "$\\displaystyle Q_x = \\frac{a b^{2} qo \\sin{\\left(\\frac{\\pi y}{b} \\right)} \\cos{\\left(\\frac{\\pi x}{a} \\right)}}{\\pi \\left(a^{2} + b^{2}\\right)}$"
      ],
      "text/plain": [
       "<IPython.core.display.Math object>"
      ]
     },
     "metadata": {},
     "output_type": "display_data"
    }
   ],
   "source": [
    "Qx = (sp.diff(Mx,x)+sp.diff(Mxy,y)).simplify()\n",
    "display(Math(r'Q_x = {}'.format(sp.latex(Qx))))"
   ]
  },
  {
   "cell_type": "code",
   "execution_count": 11,
   "id": "603c179c",
   "metadata": {},
   "outputs": [
    {
     "data": {
      "text/latex": [
       "$\\displaystyle Q_y = \\frac{a^{2} b qo \\sin{\\left(\\frac{\\pi x}{a} \\right)} \\cos{\\left(\\frac{\\pi y}{b} \\right)}}{\\pi \\left(a^{2} + b^{2}\\right)}$"
      ],
      "text/plain": [
       "<IPython.core.display.Math object>"
      ]
     },
     "metadata": {},
     "output_type": "display_data"
    }
   ],
   "source": [
    "Qy = (sp.diff(Mxy,x)+sp.diff(My,y)).simplify()\n",
    "display(Math(r'Q_y = {}'.format(sp.latex(Qy))))"
   ]
  },
  {
   "cell_type": "markdown",
   "id": "9c549aa1",
   "metadata": {},
   "source": [
    "Now, we will find the expression of effective shear"
   ]
  },
  {
   "cell_type": "code",
   "execution_count": 12,
   "id": "feb74f6c",
   "metadata": {},
   "outputs": [
    {
     "data": {
      "text/latex": [
       "$\\displaystyle V_x = \\frac{a b^{2} qo \\left(- a^{2} \\left(\\nu - 1\\right) + a^{2} + b^{2}\\right) \\sin{\\left(\\frac{\\pi y}{b} \\right)} \\cos{\\left(\\frac{\\pi x}{a} \\right)}}{\\pi \\left(a^{2} + b^{2}\\right)^{2}}$"
      ],
      "text/plain": [
       "<IPython.core.display.Math object>"
      ]
     },
     "metadata": {},
     "output_type": "display_data"
    }
   ],
   "source": [
    "Vx = (Qx + sp.diff(Mxy,y)).simplify()\n",
    "display(Math(r'V_x = {}'.format(sp.latex(Vx))))"
   ]
  },
  {
   "cell_type": "code",
   "execution_count": 13,
   "id": "3d0ac0fe",
   "metadata": {},
   "outputs": [
    {
     "data": {
      "text/latex": [
       "$\\displaystyle V_y = \\frac{a^{2} b qo \\left(a^{2} - b^{2} \\left(\\nu - 1\\right) + b^{2}\\right) \\sin{\\left(\\frac{\\pi x}{a} \\right)} \\cos{\\left(\\frac{\\pi y}{b} \\right)}}{\\pi \\left(a^{2} + b^{2}\\right)^{2}}$"
      ],
      "text/plain": [
       "<IPython.core.display.Math object>"
      ]
     },
     "metadata": {},
     "output_type": "display_data"
    }
   ],
   "source": [
    "Vy = (Qy + sp.diff(Mxy,x)).simplify()\n",
    "display(Math(r'V_y = {}'.format(sp.latex(Vy))))"
   ]
  },
  {
   "cell_type": "markdown",
   "id": "e14d7d03",
   "metadata": {},
   "source": [
    "Vx at the edge is given by substituting x=0"
   ]
  },
  {
   "cell_type": "code",
   "execution_count": 14,
   "id": "f0c194f0",
   "metadata": {},
   "outputs": [
    {
     "data": {
      "text/latex": [
       "$\\displaystyle \\left. V_x \\right|_{x=0} = \\frac{a b^{2} qo \\left(- a^{2} \\left(\\nu - 1\\right) + a^{2} + b^{2}\\right) \\sin{\\left(\\frac{\\pi y}{b} \\right)}}{\\pi \\left(a^{2} + b^{2}\\right)^{2}}$"
      ],
      "text/plain": [
       "<IPython.core.display.Math object>"
      ]
     },
     "metadata": {},
     "output_type": "display_data"
    }
   ],
   "source": [
    "Vx_at_0 = Vx.subs(x,0)\n",
    "display(Math(r'\\left. V_x \\right|_{{x=0}} = {}'.format(sp.latex(Vx_at_0))))"
   ]
  },
  {
   "cell_type": "code",
   "execution_count": 15,
   "id": "af0020e8",
   "metadata": {},
   "outputs": [
    {
     "data": {
      "text/latex": [
       "$\\displaystyle \\left. V_x \\right|_{x=a} = - \\frac{a b^{2} qo \\left(- a^{2} \\left(\\nu - 1\\right) + a^{2} + b^{2}\\right) \\sin{\\left(\\frac{\\pi y}{b} \\right)}}{\\pi \\left(a^{2} + b^{2}\\right)^{2}}$"
      ],
      "text/plain": [
       "<IPython.core.display.Math object>"
      ]
     },
     "metadata": {},
     "output_type": "display_data"
    }
   ],
   "source": [
    "Vx_at_a = Vx.subs(x,a)\n",
    "display(Math(r'\\left. V_x \\right|_{{x=a}} = {}'.format(sp.latex(Vx_at_a))))"
   ]
  },
  {
   "cell_type": "code",
   "execution_count": 16,
   "id": "e05a58dc",
   "metadata": {},
   "outputs": [
    {
     "data": {
      "text/latex": [
       "$\\displaystyle \\left. V_y \\right|_{y=0} = \\frac{a^{2} b qo \\left(a^{2} - b^{2} \\left(\\nu - 1\\right) + b^{2}\\right) \\sin{\\left(\\frac{\\pi x}{a} \\right)}}{\\pi \\left(a^{2} + b^{2}\\right)^{2}}$"
      ],
      "text/plain": [
       "<IPython.core.display.Math object>"
      ]
     },
     "metadata": {},
     "output_type": "display_data"
    },
    {
     "data": {
      "text/latex": [
       "$\\displaystyle \\left. V_y \\right|_{y=b} = - \\frac{a^{2} b qo \\left(a^{2} - b^{2} \\left(\\nu - 1\\right) + b^{2}\\right) \\sin{\\left(\\frac{\\pi x}{a} \\right)}}{\\pi \\left(a^{2} + b^{2}\\right)^{2}}$"
      ],
      "text/plain": [
       "<IPython.core.display.Math object>"
      ]
     },
     "metadata": {},
     "output_type": "display_data"
    }
   ],
   "source": [
    "Vy_at_0 = Vy.subs(y,0)\n",
    "display(Math(r'\\left. V_y \\right|_{{y=0}} = {}'.format(sp.latex(Vy_at_0))))\n",
    "\n",
    "Vy_at_b = Vy.subs(y,b)\n",
    "display(Math(r'\\left. V_y \\right|_{{y=b}} = {}'.format(sp.latex(Vy_at_b))))"
   ]
  },
  {
   "cell_type": "code",
   "execution_count": 17,
   "id": "754fedaa",
   "metadata": {},
   "outputs": [
    {
     "data": {
      "text/latex": [
       "$\\displaystyle F_{\\rm edges} = \\frac{4 a b qo \\left(a^{4} - 2 a^{2} b^{2} \\nu + 4 a^{2} b^{2} + b^{4}\\right)}{\\pi^{2} \\left(a^{4} + 2 a^{2} b^{2} + b^{4}\\right)}$"
      ],
      "text/plain": [
       "<IPython.core.display.Math object>"
      ]
     },
     "metadata": {},
     "output_type": "display_data"
    }
   ],
   "source": [
    "#TOTAL REACTION FORCE IS GIVEN BY\n",
    "F_edges = (2*sp.integrate(Vx_at_0,(y,0,b)) + 2*sp.integrate(Vy_at_0,(x,0,a))).simplify()\n",
    "display(Math(r'F_{{\\rm edges}} = {}'.format(sp.latex(F_edges))))"
   ]
  },
  {
   "cell_type": "code",
   "execution_count": 18,
   "id": "092411ac",
   "metadata": {},
   "outputs": [
    {
     "data": {
      "text/latex": [
       "$\\displaystyle F_{\\rm ext} = \\frac{4 a b qo}{\\pi^{2}}$"
      ],
      "text/plain": [
       "<IPython.core.display.Math object>"
      ]
     },
     "metadata": {},
     "output_type": "display_data"
    }
   ],
   "source": [
    "F_ext = sp.integrate(q,(x,0,a),(y,0,b))  #external applied force\n",
    "display(Math(r'F_{{\\rm ext}} = {}'.format(sp.latex(F_ext))))"
   ]
  },
  {
   "cell_type": "markdown",
   "id": "88d98b7e",
   "metadata": {},
   "source": [
    "Now, we can clearly see that reaction force is not equal to aplied force . so there\n",
    "is some kind of indescripancy due to presence of cornors"
   ]
  },
  {
   "cell_type": "code",
   "execution_count": 19,
   "id": "82274981",
   "metadata": {},
   "outputs": [
    {
     "data": {
      "text/latex": [
       "$\\displaystyle F_{\\rm corner} =- \\frac{2 qo \\left(1 - \\nu\\right)}{\\pi^{2} a b \\left(\\frac{1}{b^{2}} + \\frac{1}{a^{2}}\\right)^{2}}$"
      ],
      "text/plain": [
       "<IPython.core.display.Math object>"
      ]
     },
     "metadata": {},
     "output_type": "display_data"
    }
   ],
   "source": [
    "F_corner = 2*Mxy.subs([(x,a),(y,b)])\n",
    "display(Math(r'F_{{\\rm corner}} ={}'.format(sp.latex(F_corner))))"
   ]
  },
  {
   "cell_type": "code",
   "execution_count": 20,
   "id": "6da63210",
   "metadata": {},
   "outputs": [
    {
     "data": {
      "text/latex": [
       "$\\displaystyle \\frac{4 a b qo}{\\pi^{2}}$"
      ],
      "text/plain": [
       "4*a*b*qo/pi**2"
      ]
     },
     "execution_count": 20,
     "metadata": {},
     "output_type": "execute_result"
    }
   ],
   "source": [
    "(F_edges + 4*F_corner).simplify()"
   ]
  },
  {
   "cell_type": "markdown",
   "id": "14b6ab10",
   "metadata": {},
   "source": [
    "Now, Reaction force is equal to applied force"
   ]
  }
 ],
 "metadata": {
  "kernelspec": {
   "display_name": "Python 3",
   "language": "python",
   "name": "python3"
  },
  "language_info": {
   "codemirror_mode": {
    "name": "ipython",
    "version": 3
   },
   "file_extension": ".py",
   "mimetype": "text/x-python",
   "name": "python",
   "nbconvert_exporter": "python",
   "pygments_lexer": "ipython3",
   "version": "3.8.8"
  }
 },
 "nbformat": 4,
 "nbformat_minor": 5
}
